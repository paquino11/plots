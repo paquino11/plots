{
  "nbformat": 4,
  "nbformat_minor": 0,
  "metadata": {
    "colab": {
      "provenance": [],
      "include_colab_link": true
    },
    "kernelspec": {
      "name": "python3",
      "display_name": "Python 3"
    },
    "language_info": {
      "name": "python"
    }
  },
  "cells": [
    {
      "cell_type": "markdown",
      "metadata": {
        "id": "view-in-github",
        "colab_type": "text"
      },
      "source": [
        "<a href=\"https://colab.research.google.com/github/paquino11/plots/blob/main/SadTalker_Beta_Monster_API.ipynb\" target=\"_parent\"><img src=\"https://colab.research.google.com/assets/colab-badge.svg\" alt=\"Open In Colab\"/></a>"
      ]
    },
    {
      "cell_type": "markdown",
      "source": [
        "  #### SadTalker API allows you to create realistic talking face animations that sync seamlessly with audio input.\n",
        "\n",
        "  #### Developed by [Tencent AI Lab, Xi'an Jiaotong University and Ant Lab](https://github.com/OpenTalker/SadTalker), SadTalker enhances talking head video realism by using 3D motion coefficients learned from audio."
      ],
      "metadata": {
        "id": "SqaMYZj4i0m6"
      }
    },
    {
      "cell_type": "markdown",
      "source": [
        "### Set MonsterAPI Key\n",
        "\n",
        "If you don't have a key then sign up on [MonsterAPI](https://monsterapi.ai/signup) to get a free key today.\n",
        "\n",
        "Copy and Paste your Key below:"
      ],
      "metadata": {
        "id": "Dcfd75QixqJJ"
      }
    },
    {
      "cell_type": "code",
      "source": [
        "# Set your Monster API key as an environment variable\n",
        "MONSTER_API_KEY = 'YOUR_MONSTERAPI_KEY'"
      ],
      "metadata": {
        "id": "qkNMZpC_xvLr"
      },
      "execution_count": null,
      "outputs": []
    },
    {
      "cell_type": "markdown",
      "source": [
        "### Install Dependencies"
      ],
      "metadata": {
        "id": "PDXo-mcMjcaQ"
      }
    },
    {
      "cell_type": "code",
      "source": [
        "!apt-get install curl\n",
        "from IPython.display import HTML\n",
        "from base64 import b64encode\n",
        "import subprocess\n",
        "import json\n",
        "import requests\n",
        "\n",
        "def play_video_from_json(json_data):\n",
        "    try:\n",
        "        # Extract the video URL from the JSON data\n",
        "        video_url = json_data[\"result\"][\"output\"][0]\n",
        "        # Generate HTML to embed a video player\n",
        "        video_html = f'<video width=\"640\" height=\"360\" controls><source src=\"{video_url}\" type=\"video/mp4\"></video>'\n",
        "        # Display the video player\n",
        "        display(HTML(video_html))\n",
        "    except KeyError:\n",
        "        print(\"Invalid JSON format. Missing required keys.\")\n",
        "    except Exception as e:\n",
        "        print(f\"An error occurred: {str(e)}\")"
      ],
      "metadata": {
        "id": "QgCOmz0IjW8m",
        "colab": {
          "base_uri": "https://localhost:8080/"
        },
        "outputId": "920de4c4-5a7b-412e-b6ec-25ce842cdba9"
      },
      "execution_count": null,
      "outputs": [
        {
          "output_type": "stream",
          "name": "stdout",
          "text": [
            "Reading package lists... Done\n",
            "Building dependency tree... Done\n",
            "Reading state information... Done\n",
            "curl is already the newest version (7.81.0-1ubuntu1.14).\n",
            "0 upgraded, 0 newly installed, 0 to remove and 18 not upgraded.\n"
          ]
        }
      ]
    },
    {
      "cell_type": "markdown",
      "source": [
        "## Input Parameters -\n",
        "**audio_url** [REQUIRED]\n",
        "- *Type*: string\n",
        "- *Format*: binary\n",
        "- *Description*: Input audio or video file. Supported file formats: `mp3, mp4, wav, webm, ogg`\n",
        "\n",
        "**image_url** [REQUIRED]\n",
        "- *Type*: string\n",
        "- *Format*: binary\n",
        "- *Description*: Input Image File. Supported Formats: `.jpg, .jpeg, .png`\n",
        "\n",
        "**enhancer**\n",
        "- *Type*: string\n",
        "- *Default*: gfpgan\n",
        "- *Description*: Using 'gfpgan' or 'RestoreFormer' to enhance the generated face via face restoration network.\n",
        "\n",
        "**preprocess**\n",
        "- *Type*: string\n",
        "- *Default*: full\n",
        "- *Description*: Run and produce the results in the cropped input image. Other choices include resize, where the images will be resized to the specific resolution.\n",
        "\n",
        "Options Include = [\n",
        "    \"crop\",\n",
        "    \"extcrop\",\n",
        "    \"resize\",\n",
        "    \"full\",\n",
        "    \"extfull\"\n",
        "]\n",
        "\n",
        "\n",
        "**expression_scale**\n",
        "- *Type*: number\n",
        "- *Format*: float\n",
        "- *Default*: 1.0\n",
        "- *Minimum*: 0.0\n",
        "- *Maximum*: 1.5\n",
        "- *Description*: Adjust the strength of expression motion. A higher value makes the facial expressions more pronounced.\n",
        "\n",
        "**still**\n",
        "- *Type*: boolean\n",
        "- *Default*: true\n",
        "- *Description*: Set this option to 'true' to retain the same pose parameters as the original image, resulting in less head motion in the generated animation.\n"
      ],
      "metadata": {
        "id": "MLWW1QIEjgPP"
      }
    },
    {
      "cell_type": "markdown",
      "source": [
        "### Send POST Request"
      ],
      "metadata": {
        "id": "JQ6-KlYyPrPa"
      }
    },
    {
      "cell_type": "code",
      "source": [
        "# Set the URL and headers\n",
        "url = \"https://api.monsterapi.ai/v1/generate/sadtalker-beta\"\n",
        "\n",
        "headers = {\n",
        "  'Content-Type': 'application/json',\n",
        "  \"Authorization\": f\"Bearer {MONSTER_API_KEY}\"\n",
        "}\n",
        "\n",
        "# Set the data payload\n",
        "payload = json.dumps({\n",
        "    \"audio_url\": \"https://audio-samples.github.io/samples/mp3/blizzard_primed/sample-0.mp3\",\n",
        "    \"image_url\": \"https://processed-model-result.s3.us-east-2.amazonaws.com/173bdd0a-d38e-41b0-b141-755451549e52_1.png\",\n",
        "    \"expression_scale\": 1.3\n",
        "})\n",
        "\n",
        "# Send the POST request\n",
        "response = requests.post(url, headers=headers, data=payload)\n",
        "\n",
        "# Check if the response status code is 200 (OK)\n",
        "if response.status_code == 200:\n",
        "    response_data = response.json()\n",
        "    process_id = response_data.get('process_id')\n",
        "    print(\"Request Accepted Successfully!\")\n",
        "    print(f\"Process ID: {process_id}\")\n",
        "else:\n",
        "    print(f\"Error: Status Code {response.status_code}\")"
      ],
      "metadata": {
        "colab": {
          "base_uri": "https://localhost:8080/"
        },
        "id": "WIBtaWymIpR2",
        "outputId": "635f5965-331a-45f8-b33e-9e16eb830df2"
      },
      "execution_count": null,
      "outputs": [
        {
          "output_type": "stream",
          "name": "stdout",
          "text": [
            "Request Accepted Successfully!\n",
            "Process ID: 0bc7122b-61e6-4431-b3a1-b6537b24a211\n"
          ]
        }
      ]
    },
    {
      "cell_type": "markdown",
      "source": [
        "### Wait and GET Result\n",
        "\n",
        "##### This step may take 5-7 minutes depending on audio length. On average it takes 9-15 seconds to produce 1 second of video clip."
      ],
      "metadata": {
        "id": "ozXBgtQYO2Zg"
      }
    },
    {
      "cell_type": "code",
      "source": [
        "import requests\n",
        "import time  # Import the time module\n",
        "\n",
        "url = f\"https://api.monsterapi.ai/v1/status/{process_id}\"\n",
        "\n",
        "headers = {\n",
        "    \"accept\": \"application/json\",\n",
        "    \"Authorization\": f\"Bearer {MONSTER_API_KEY}\"\n",
        "}\n",
        "\n",
        "while True:\n",
        "    response = requests.get(url, headers=headers)\n",
        "    data = response.json()  # Parse the JSON response\n",
        "    # print(data)\n",
        "    if data['status'] == 'COMPLETED':\n",
        "        play_video_from_json(data)\n",
        "        break\n",
        "    elif data['status'] == 'FAILED':\n",
        "        print(\"Processing failed\")\n",
        "        break\n",
        "    time.sleep(1)  # Wait for 1 seconds before the next API request (adjust this as needed)"
      ],
      "metadata": {
        "id": "E546eCoWOb90",
        "colab": {
          "base_uri": "https://localhost:8080/",
          "height": 381
        },
        "outputId": "111cefe5-6a7b-431a-e542-5882b41e3fc3"
      },
      "execution_count": null,
      "outputs": [
        {
          "output_type": "display_data",
          "data": {
            "text/plain": [
              "<IPython.core.display.HTML object>"
            ],
            "text/html": [
              "<video width=\"640\" height=\"360\" controls><source src=\"https://processed-model-result.s3.us-east-2.amazonaws.com/0bc7122b-61e6-4431-b3a1-b6537b24a211_0.mp4\" type=\"video/mp4\"></video>"
            ]
          },
          "metadata": {}
        }
      ]
    },
    {
      "cell_type": "code",
      "source": [],
      "metadata": {
        "id": "3_vs4i-znFlS"
      },
      "execution_count": null,
      "outputs": []
    }
  ]
}